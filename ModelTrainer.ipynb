{
 "cells": [
  {
   "cell_type": "code",
   "execution_count": 1,
   "metadata": {},
   "outputs": [
    {
     "name": "stdout",
     "output_type": "stream",
     "text": [
      "WARNING:tensorflow:From /usr/local/lib/python3.5/dist-packages/tensorflow/contrib/learn/python/learn/datasets/base.py:198: retry (from tensorflow.contrib.learn.python.learn.datasets.base) is deprecated and will be removed in a future version.\n",
      "Instructions for updating:\n",
      "Use the retry module or similar alternatives.\n",
      "hdf5 is not supported on this machine (please install/reinstall h5py for optimal experience)\n"
     ]
    }
   ],
   "source": [
    "import tensorflow as tf\n",
    "import tflearn\n",
    "from tflearn.layers.conv import conv_2d,max_pool_2d\n",
    "from tflearn.layers.core import input_data,dropout,fully_connected\n",
    "from tflearn.layers.estimator import regression\n",
    "import numpy as np\n",
    "import cv2\n",
    "from sklearn.utils import shuffle"
   ]
  },
  {
   "cell_type": "code",
   "execution_count": 7,
   "metadata": {},
   "outputs": [],
   "source": [
    "#Load Images from Swing\n",
    "loadedImages = []\n",
    "for i in range(0, 1000):\n",
    "    image = cv2.imread('Dataset/SwingImages/swing_' + str(i) + '.png')\n",
    "    gray_image = cv2.cvtColor(image, cv2.COLOR_BGR2GRAY)\n",
    "    loadedImages.append(gray_image.reshape(89, 100, 1))\n",
    "\n",
    "#Load Images From Palm\n",
    "for i in range(0, 1000):\n",
    "    image = cv2.imread('Dataset/PalmImages/palm_' + str(i) + '.png')\n",
    "    gray_image = cv2.cvtColor(image, cv2.COLOR_BGR2GRAY)\n",
    "    loadedImages.append(gray_image.reshape(89, 100, 1))\n",
    "    \n",
    "#Load Images From Fist\n",
    "for i in range(0, 1000):\n",
    "    image = cv2.imread('Dataset/FistImages/fist_' + str(i) + '.png')\n",
    "    gray_image = cv2.cvtColor(image, cv2.COLOR_BGR2GRAY)\n",
    "    loadedImages.append(gray_image.reshape(89, 100, 1))\n"
   ]
  },
  {
   "cell_type": "code",
   "execution_count": 8,
   "metadata": {},
   "outputs": [],
   "source": [
    "# Create OutputVector\n",
    "\n",
    "outputVectors = []\n",
    "for i in range(0, 1000):\n",
    "    outputVectors.append([1, 0, 0])\n",
    "\n",
    "for i in range(0, 1000):\n",
    "    outputVectors.append([0, 1, 0])\n",
    "\n",
    "for i in range(0, 1000):\n",
    "    outputVectors.append([0, 0, 1])\n"
   ]
  },
  {
   "cell_type": "code",
   "execution_count": 9,
   "metadata": {},
   "outputs": [],
   "source": [
    "testImages = []\n",
    "\n",
    "#Load Images for swing\n",
    "for i in range(0, 100):\n",
    "    image = cv2.imread('Dataset/SwingTest/swing_' + str(i) + '.png')\n",
    "    gray_image = cv2.cvtColor(image, cv2.COLOR_BGR2GRAY)\n",
    "    testImages.append(gray_image.reshape(89, 100, 1))\n",
    "\n",
    "#Load Images for Palm\n",
    "for i in range(0, 100):\n",
    "    image = cv2.imread('Dataset/PalmTest/palm_' + str(i) + '.png')\n",
    "    gray_image = cv2.cvtColor(image, cv2.COLOR_BGR2GRAY)\n",
    "    testImages.append(gray_image.reshape(89, 100, 1))\n",
    "    \n",
    "#Load Images for Fist\n",
    "for i in range(0, 100):\n",
    "    image = cv2.imread('Dataset/FistTest/fist_' + str(i) + '.png')\n",
    "    gray_image = cv2.cvtColor(image, cv2.COLOR_BGR2GRAY)\n",
    "    testImages.append(gray_image.reshape(89, 100, 1))\n",
    "\n",
    "testLabels = []\n",
    "\n",
    "for i in range(0, 100):\n",
    "    testLabels.append([1, 0, 0])\n",
    "    \n",
    "for i in range(0, 100):\n",
    "    testLabels.append([0, 1, 0])\n",
    "\n",
    "for i in range(0, 100):\n",
    "    testLabels.append([0, 0, 1])"
   ]
  },
  {
   "cell_type": "code",
   "execution_count": 10,
   "metadata": {},
   "outputs": [
    {
     "name": "stdout",
     "output_type": "stream",
     "text": [
      "WARNING:tensorflow:From /usr/local/lib/python3.5/dist-packages/tflearn/initializations.py:119: UniformUnitScaling.__init__ (from tensorflow.python.ops.init_ops) is deprecated and will be removed in a future version.\n",
      "Instructions for updating:\n",
      "Use tf.initializers.variance_scaling instead with distribution=uniform to get equivalent behavior.\n",
      "WARNING:tensorflow:From /usr/local/lib/python3.5/dist-packages/tflearn/objectives.py:66: calling reduce_sum (from tensorflow.python.ops.math_ops) with keep_dims is deprecated and will be removed in a future version.\n",
      "Instructions for updating:\n",
      "keep_dims is deprecated, use keepdims instead\n"
     ]
    }
   ],
   "source": [
    "# Define the CNN Model\n",
    "tf.reset_default_graph()\n",
    "convnet=input_data(shape=[None,89,100,1],name='input')\n",
    "convnet=conv_2d(convnet,32,2,activation='relu')\n",
    "convnet=max_pool_2d(convnet,2)\n",
    "convnet=conv_2d(convnet,64,2,activation='relu')\n",
    "convnet=max_pool_2d(convnet,2)\n",
    "\n",
    "convnet=conv_2d(convnet,128,2,activation='relu')\n",
    "convnet=max_pool_2d(convnet,2)\n",
    "\n",
    "convnet=conv_2d(convnet,256,2,activation='relu')\n",
    "convnet=max_pool_2d(convnet,2)\n",
    "\n",
    "convnet=conv_2d(convnet,256,2,activation='relu')\n",
    "convnet=max_pool_2d(convnet,2)\n",
    "\n",
    "convnet=conv_2d(convnet,128,2,activation='relu')\n",
    "convnet=max_pool_2d(convnet,2)\n",
    "\n",
    "convnet=conv_2d(convnet,64,2,activation='relu')\n",
    "convnet=max_pool_2d(convnet,2)\n",
    "\n",
    "convnet=fully_connected(convnet,1000,activation='relu')\n",
    "convnet=dropout(convnet,0.75)\n",
    "\n",
    "convnet=fully_connected(convnet,3,activation='softmax')\n",
    "\n",
    "convnet=regression(convnet,optimizer='adam',learning_rate=0.001,loss='categorical_crossentropy',name='regression')\n",
    "\n",
    "model=tflearn.DNN(convnet,tensorboard_verbose=0)\n"
   ]
  },
  {
   "cell_type": "code",
   "execution_count": 11,
   "metadata": {},
   "outputs": [
    {
     "name": "stdout",
     "output_type": "stream",
     "text": [
      "Training Step: 2349  | total loss: \u001b[1m\u001b[32m0.00046\u001b[0m\u001b[0m | time: 54.776s\n",
      "| Adam | epoch: 050 | loss: 0.00046 - acc: 1.0000 -- iter: 2944/3000\n",
      "Training Step: 2350  | total loss: \u001b[1m\u001b[32m0.00042\u001b[0m\u001b[0m | time: 57.637s\n",
      "| Adam | epoch: 050 | loss: 0.00042 - acc: 1.0000 | val_loss: 0.64083 - val_acc: 0.9667 -- iter: 3000/3000\n",
      "--\n",
      "INFO:tensorflow:/home/sparsha/ProjectWork/gitprojects/Hand Gesture Detection/GestureRecogModel.tfl is not in all_model_checkpoint_paths. Manually adding it.\n"
     ]
    }
   ],
   "source": [
    "# Shuffle Training Data\n",
    "loadedImages, outputVectors = shuffle(loadedImages, outputVectors, random_state=0)\n",
    "\n",
    "# Train model\n",
    "model.fit(loadedImages, outputVectors, n_epoch=50,\n",
    "           validation_set = (testImages, testLabels),\n",
    "           snapshot_step=100, show_metric=True, run_id='convnet_coursera')\n",
    "\n",
    "model.save(\"GestureRecogModel.tfl\")"
   ]
  },
  {
   "cell_type": "code",
   "execution_count": null,
   "metadata": {},
   "outputs": [],
   "source": []
  }
 ],
 "metadata": {
  "kernelspec": {
   "display_name": "Python 3",
   "language": "python",
   "name": "python3"
  },
  "language_info": {
   "codemirror_mode": {
    "name": "ipython",
    "version": 3
   },
   "file_extension": ".py",
   "mimetype": "text/x-python",
   "name": "python",
   "nbconvert_exporter": "python",
   "pygments_lexer": "ipython3",
   "version": "3.5.2"
  }
 },
 "nbformat": 4,
 "nbformat_minor": 2
}
